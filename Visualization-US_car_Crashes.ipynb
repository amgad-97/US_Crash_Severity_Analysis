{
 "cells": [
  {
   "cell_type": "code",
   "execution_count": 31,
   "metadata": {},
   "outputs": [],
   "source": [
    "from jupyter_dash import JupyterDash\n",
    "from dash import dcc\n",
    "from dash import html\n",
    "import plotly.express as px\n",
    "import pandas as pd\n",
    "from dash.dependencies import Output,Input,State\n",
    "import numpy as np\n",
    "import plotly.graph_objects as go\n"
   ]
  },
  {
   "cell_type": "code",
   "execution_count": 2,
   "metadata": {},
   "outputs": [],
   "source": [
    "acc_df = pd.read_csv(r'data\\US_Accidents.csv')\n",
    "state = pd.read_csv(\"data\\States.csv\")\n"
   ]
  },
  {
   "cell_type": "code",
   "execution_count": 3,
   "metadata": {},
   "outputs": [
    {
     "name": "stdout",
     "output_type": "stream",
     "text": [
      "<class 'pandas.core.frame.DataFrame'>\n",
      "RangeIndex: 1516064 entries, 0 to 1516063\n",
      "Data columns (total 47 columns):\n",
      " #   Column                 Non-Null Count    Dtype  \n",
      "---  ------                 --------------    -----  \n",
      " 0   ID                     1516064 non-null  object \n",
      " 1   Severity               1516064 non-null  int64  \n",
      " 2   Start_Time             1516064 non-null  object \n",
      " 3   End_Time               1516064 non-null  object \n",
      " 4   Start_Lat              1516064 non-null  float64\n",
      " 5   Start_Lng              1516064 non-null  float64\n",
      " 6   End_Lat                1516064 non-null  float64\n",
      " 7   End_Lng                1516064 non-null  float64\n",
      " 8   Distance(mi)           1516064 non-null  float64\n",
      " 9   Description            1516064 non-null  object \n",
      " 10  Number                 469969 non-null   float64\n",
      " 11  Street                 1516064 non-null  object \n",
      " 12  Side                   1516064 non-null  object \n",
      " 13  City                   1515981 non-null  object \n",
      " 14  County                 1516064 non-null  object \n",
      " 15  State                  1516064 non-null  object \n",
      " 16  Zipcode                1515129 non-null  object \n",
      " 17  Country                1516064 non-null  object \n",
      " 18  Timezone               1513762 non-null  object \n",
      " 19  Airport_Code           1511816 non-null  object \n",
      " 20  Weather_Timestamp      1485800 non-null  object \n",
      " 21  Temperature(F)         1473031 non-null  float64\n",
      " 22  Wind_Chill(F)          1066748 non-null  float64\n",
      " 23  Humidity(%)            1470555 non-null  float64\n",
      " 24  Pressure(in)           1479790 non-null  float64\n",
      " 25  Visibility(mi)         1471853 non-null  float64\n",
      " 26  Wind_Direction         1474206 non-null  object \n",
      " 27  Wind_Speed(mph)        1387202 non-null  float64\n",
      " 28  Precipitation(in)      1005515 non-null  float64\n",
      " 29  Weather_Condition      1472057 non-null  object \n",
      " 30  Amenity                1516064 non-null  bool   \n",
      " 31  Bump                   1516064 non-null  bool   \n",
      " 32  Crossing               1516064 non-null  bool   \n",
      " 33  Give_Way               1516064 non-null  bool   \n",
      " 34  Junction               1516064 non-null  bool   \n",
      " 35  No_Exit                1516064 non-null  bool   \n",
      " 36  Railway                1516064 non-null  bool   \n",
      " 37  Roundabout             1516064 non-null  bool   \n",
      " 38  Station                1516064 non-null  bool   \n",
      " 39  Stop                   1516064 non-null  bool   \n",
      " 40  Traffic_Calming        1516064 non-null  bool   \n",
      " 41  Traffic_Signal         1516064 non-null  bool   \n",
      " 42  Turning_Loop           1516064 non-null  bool   \n",
      " 43  Sunrise_Sunset         1515981 non-null  object \n",
      " 44  Civil_Twilight         1515981 non-null  object \n",
      " 45  Nautical_Twilight      1515981 non-null  object \n",
      " 46  Astronomical_Twilight  1515981 non-null  object \n",
      "dtypes: bool(13), float64(13), int64(1), object(20)\n",
      "memory usage: 412.1+ MB\n"
     ]
    }
   ],
   "source": [
    "acc_df.info()"
   ]
  },
  {
   "cell_type": "code",
   "execution_count": 4,
   "metadata": {},
   "outputs": [],
   "source": [
    "columns= ['Severity' ,\"Start_Lat\" ,\"Start_Lng\" , 'Start_Time', 'End_Time', 'Distance(mi)',\n",
    "          'City', 'County', 'State', 'Weather_Timestamp', 'Weather_Condition', 'Sunrise_Sunset']\n",
    "acc_df = acc_df[columns]"
   ]
  },
  {
   "cell_type": "code",
   "execution_count": 5,
   "metadata": {},
   "outputs": [],
   "source": [
    "acc_df=acc_df.sample(200000 , random_state=0,axis=0 )"
   ]
  },
  {
   "cell_type": "code",
   "execution_count": 6,
   "metadata": {},
   "outputs": [],
   "source": [
    "acc_df=acc_df.dropna()"
   ]
  },
  {
   "cell_type": "code",
   "execution_count": 7,
   "metadata": {},
   "outputs": [],
   "source": [
    "acc_df.to_csv(r'data\\sampled.csv') #Sampled data  after preprocessing for future use "
   ]
  },
  {
   "cell_type": "markdown",
   "metadata": {},
   "source": [
    "# If Sampled File Exists"
   ]
  },
  {
   "cell_type": "code",
   "execution_count": 35,
   "metadata": {},
   "outputs": [],
   "source": [
    "acc_df = pd.read_csv(r'data\\sampled.csv')"
   ]
  },
  {
   "cell_type": "code",
   "execution_count": 36,
   "metadata": {},
   "outputs": [],
   "source": [
    "acc_df[\"Start_Time\"]=acc_df[\"Start_Time\"].astype(\"datetime64\")\n",
    "acc_df['End_Time']  = acc_df['End_Time'].astype(\"datetime64\")\n",
    "acc_df['year'] = pd.DatetimeIndex(acc_df['Start_Time']).year.astype('int')\n",
    "acc_df['month'] = pd.DatetimeIndex(acc_df['Start_Time']).month.astype('int')\n",
    "acc_df['hour'] = pd.DatetimeIndex(acc_df['Start_Time']).hour.astype('int')\n",
    "acc_df['year_month'] = acc_df['Start_Time'].dt.strftime('%Y-%m')\n",
    "acc_df[\"duration\"]=acc_df['End_Time'] -acc_df['Start_Time']\n",
    "acc_df[\"duration_sec\"]=acc_df['duration'].astype('timedelta64[s]').astype(\"float\")\n",
    "acc_df[\"duration_mins\"]=acc_df['duration'].astype('timedelta64[m]').astype(\"float\")\n",
    "acc_df[\"duration_hours\"]=acc_df['duration'].astype('timedelta64[h]').astype(\"float\")\n",
    "acc_df[\"duration_days\"]=acc_df['duration'].astype('timedelta64[D]').astype(\"float\")\n"
   ]
  },
  {
   "cell_type": "code",
   "execution_count": 37,
   "metadata": {},
   "outputs": [],
   "source": [
    "acc_df = acc_df.merge(state, how='inner',  left_on=\"State\", right_on=\"Code\")"
   ]
  },
  {
   "cell_type": "code",
   "execution_count": 38,
   "metadata": {},
   "outputs": [],
   "source": [
    "acc_df=acc_df[~(acc_df[\"duration_days\"] > 10 )] # filtter accedents with very high waiting time  \n",
    "acc_df['year_month'] = acc_df['Start_Time'].dt.strftime('%Y-%m')\n",
    "mean_wait_by_state = acc_df.groupby('State_Name').agg('mean')[['duration_mins']].reset_index()\n",
    "mean_count_by_state = acc_df.groupby('State_Name').agg('count')[[\"Severity\"]].reset_index()\n",
    "mean_by_state=mean_wait_by_state.merge(mean_count_by_state,how='inner', on=\"State_Name\")\n",
    "mean_by_state[\"mins_by_acc\"]=mean_by_state[\"duration_mins\"]/mean_by_state[\"Severity\"]\n",
    "mean_acc_by_state_mins=mean_by_state[[\"State_Name\",\"mins_by_acc\"]]\n",
    "mean_acc_by_state_mins=mean_acc_by_state_mins.sort_values(\"mins_by_acc\")"
   ]
  },
  {
   "cell_type": "code",
   "execution_count": 39,
   "metadata": {},
   "outputs": [],
   "source": [
    "mean_wait_fig = px.bar(mean_acc_by_state_mins,x=\"State_Name\", y=\"mins_by_acc\",\\\n",
    "                              labels={'State_Name':'State', 'mins_by_acc':'Avreage Waiting in Minutes by Accident'},\n",
    "                               log_y=True,\n",
    "                              title='Avreage waiting time in mins per accident for each State')"
   ]
  },
  {
   "cell_type": "code",
   "execution_count": 40,
   "metadata": {},
   "outputs": [],
   "source": [
    "Severity_map_fig = px.scatter(acc_df, x='Start_Lng', y='Start_Lat', opacity=0.5,\n",
    "                              width=600 , height=400,\n",
    "                              color='Severity', color_continuous_scale='deep',\n",
    "                              hover_name='State_Name',\n",
    "                              title='Top cities in accidents')"
   ]
  },
  {
   "cell_type": "code",
   "execution_count": 41,
   "metadata": {},
   "outputs": [],
   "source": [
    "Top_cities = acc_df.groupby('City').agg('count')['Severity'].sort_values(ascending=False).head(30)\n",
    "Top_cities_fig = px.bar(x=Top_cities.index, y=Top_cities.values,\n",
    "                        labels={'x':'Top cities', 'y':'Number of accidents'},\n",
    "                        title='Top cities in accidents')"
   ]
  },
  {
   "cell_type": "code",
   "execution_count": 42,
   "metadata": {},
   "outputs": [],
   "source": [
    "accidents_per_month = acc_df.groupby('year_month').agg('count')['Severity'].sort_index()\n",
    "accidents_month_fig = px.line(x=accidents_per_month.index, y=accidents_per_month.values,\\\n",
    "                              log_y=True, markers='date',\n",
    "                              labels={'x':'Date', 'y':'Number of accidents'},\n",
    "                              title='Accidents Per Month'\n",
    "                         )"
   ]
  },
  {
   "cell_type": "code",
   "execution_count": 43,
   "metadata": {},
   "outputs": [],
   "source": [
    "acc_df=acc_df[~(acc_df[\"Distance(mi)\"] > 10 )]# filtter accedents with very high waiting distance  \n",
    "mean_dist_by_state = acc_df.groupby('State_Name').agg('mean')[['Distance(mi)']].reset_index()\n",
    "mean_count_by_state = acc_df.groupby('State_Name').agg('count')[[\"Severity\"]].reset_index()\n",
    "mean_by_state =mean_dist_by_state.merge(mean_count_by_state,how='inner', on=\"State_Name\")\n",
    "mean_by_state[\"miles_by_acc\"]=mean_by_state[\"Distance(mi)\"]/mean_by_state[\"Severity\"]\n",
    "mean_acc_by_state_miles=mean_by_state[[\"State_Name\",\"miles_by_acc\"]]\n",
    "mean_acc_by_state_miles=mean_acc_by_state_miles.sort_values(\"miles_by_acc\")"
   ]
  },
  {
   "cell_type": "code",
   "execution_count": 44,
   "metadata": {},
   "outputs": [],
   "source": [
    "mean_distance_by_state_fig = px.bar(mean_acc_by_state_miles,x=\"State_Name\", y=\"miles_by_acc\",\\\n",
    "                                    labels={'State_Name':'State', 'miles_by_acc':'Avreage Distance Per Accident'},\n",
    "                                    log_y=True,\n",
    "                                    title='Avreage Distance in miles affected per accident for each State')"
   ]
  },
  {
   "cell_type": "code",
   "execution_count": 45,
   "metadata": {},
   "outputs": [],
   "source": [
    "mean_wait_bysevety = acc_df.groupby('Severity').agg('mean')[['Distance(mi)']].reset_index()\n",
    "mean_wait_bysevety_fig = px.line(mean_wait_bysevety,x=\"Severity\", y=\"Distance(mi)\",\\\n",
    "                                 markers=\"Distance(mi)\",\n",
    "                              labels={'Distance(mi)':'Distance In Miles', 'Severity':'Avreage Distance in Miles'},\n",
    "                              title='Severity Effect of Traffic')\n",
    "\n",
    "__=mean_wait_bysevety_fig.add_bar(x=mean_wait_bysevety[\"Severity\"], y=mean_wait_bysevety[\"Distance(mi)\"])"
   ]
  },
  {
   "cell_type": "code",
   "execution_count": 46,
   "metadata": {},
   "outputs": [],
   "source": [
    "count_by_sun = acc_df.groupby('Sunrise_Sunset').agg('count')[\"Severity\"].reset_index()\n",
    "count_by_sun[\"Percent\"]=count_by_sun[\"Severity\"]/count_by_sun[\"Severity\"].sum()\n",
    "\n",
    "labels = count_by_sun[\"Sunrise_Sunset\"]\n",
    "values = count_by_sun[\"Severity\"]\n",
    "\n",
    "day_night_fig = go.Figure(data=[go.Pie(labels=labels, values=values, pull=[0.1, 0],hole=0.4)])\n",
    "____=day_night_fig.update_layout(\n",
    "    title={\n",
    "        'text': \"Percentage Of Accidents According to Day Light\",\n",
    "        'y':0.9,\n",
    "        'x':0.5,\n",
    "        'xanchor': 'center',\n",
    "        'yanchor': 'top'})\n"
   ]
  },
  {
   "cell_type": "code",
   "execution_count": 47,
   "metadata": {},
   "outputs": [],
   "source": [
    "count_byweather_sev=acc_df.groupby('Weather_Condition').agg('count')[\"Severity\"].reset_index().sort_values(\"Severity\",ascending=False)\n",
    "count_byweather_sev[\"Percent\"]=count_byweather_sev[\"Severity\"]/count_byweather_sev[\"Severity\"].sum()\n",
    "\n",
    "labels = count_byweather_sev[\"Weather_Condition\"][:7]\n",
    "values = count_byweather_sev[\"Severity\"]\n",
    "\n",
    "count_byweather_fig = go.Figure(data=[go.Pie(labels=labels, values=values, pull=[0.1, 0,0,0,0],hole=0.4)])\n",
    "__=count_byweather_fig.update_layout(\n",
    "    title={\n",
    "        'text': \"Percentage Of Accidents Per Weather condition\",\n",
    "        'y':0.9,\n",
    "        'x':0.5,\n",
    "        'xanchor': 'center',\n",
    "        'yanchor': 'top'})\n"
   ]
  },
  {
   "cell_type": "code",
   "execution_count": null,
   "metadata": {},
   "outputs": [],
   "source": []
  },
  {
   "cell_type": "code",
   "execution_count": 48,
   "metadata": {},
   "outputs": [],
   "source": [
    "app = JupyterDash(external_stylesheets=['https://codepen.io/chriddyp/pen/bWLwgP.css'])"
   ]
  },
  {
   "cell_type": "code",
   "execution_count": 49,
   "metadata": {},
   "outputs": [],
   "source": [
    "app.layout = html.Div(children=\n",
    "[\n",
    "    html.H1(\"US Crash Severity Analysis\", style= {'textAlign': 'center', 'color': 'gray'}, className='twelve columns'),\n",
    "    html.Br(),\n",
    "    \n",
    "    # bans\n",
    "    html.Div([\n",
    "        html.Div([\n",
    "            html.H2('60 %',style= {'textAlign': 'center', 'color': 'black', 'fontFamily':'Arial Italic', 'fontSize':60}),\n",
    "            html.H4('Of acciedents in US are occured in day light', style={'textAlign': 'center', 'color': 'black', 'fontFamily':'Arial Italic', 'fontSize':30}),\n",
    "            ], className = 'six columns', style = {'textAlign' : 'center', 'backgroundColor': '#42a5f5'}),\n",
    "        html.Div([\n",
    "            html.H2('38 %', style= {'textAlign': 'center', 'color': 'black', 'fontFamily':'Arial Italic', 'fontSize':60}),\n",
    "            html.H4('Of acciedents in US are occured in fair weather', style={'textAlign': 'center', 'color': 'black', 'fontFamily':'Arial Italic', 'fontSize':30})\n",
    "            ], className = 'six columns', style = {'textAlign' : 'center', 'backgroundColor': '#ef5350'})\n",
    "        ], className = 'row'),\n",
    "    \n",
    "    html.Div([\n",
    "        html.Div([dcc.Graph(id='Severity_map_fig', figure=Severity_map_fig),\n",
    "                  dcc.Dropdown(\n",
    "                      id='month_dropdown',\n",
    "                      options=[{'label' : str(month), 'value' : str(month)} for month in sorted(acc_df['month'].unique())],\n",
    "                      placeholder=\"choose the month\"),\n",
    "                  dcc.Dropdown(\n",
    "                      id='hour_dropdown',\n",
    "                      options=[{'label' : str(hour), 'value' : str(hour)} for hour in sorted(acc_df['hour'].unique())],\n",
    "                      placeholder=\"choose the hour\")],\n",
    "                           className='six columns'),\n",
    "        html.Div([dcc.Graph(id='Top_cities_fig', figure=Top_cities_fig),\n",
    "                  dcc.Dropdown(\n",
    "                      id='cities_dropdown',\n",
    "                      options=[{'label' : str(i), 'value' : i} for i in range(1,31)],\n",
    "                      placeholder=\"choose number of cities\")]\n",
    "                 ,className='six columns'),\n",
    "    ]),\n",
    "\n",
    "    html.Div(html.Div([\n",
    "        html.Div(dcc.Graph(id='accidents_month_fig', figure=accidents_month_fig),className='six columns'),\n",
    "        html.Div(dcc.Graph(id='mean_wait_bysevety_fig', figure=mean_wait_bysevety_fig),className='six columns')\n",
    "    ])),\n",
    "    \n",
    "    html.Div([\n",
    "        html.Div(dcc.Graph(id='mean_distance_by_state_fig', figure=mean_distance_by_state_fig),className='six columns'),\n",
    "        html.Div(dcc.Graph(id='mean_wait_fig', figure=mean_wait_fig),className='six columns')\n",
    "    ]),\n",
    "    \n",
    "    html.Div([\n",
    "        html.Div(dcc.Graph(id='day_night_fig', figure=day_night_fig),className='six columns'),\n",
    "        html.Div(dcc.Graph(id='count_byweather_fig', figure=count_byweather_fig),className='six columns')\n",
    "    ], style = {'textAlign' : 'center', 'backgroundColor': '#F5C64A'})\n",
    "])\n",
    "    \n",
    "\n",
    "\n",
    "@app.callback(\n",
    "    Output(component_id='Severity_map_fig', component_property='figure'),\n",
    "    Input(component_id='month_dropdown', component_property='value'),\n",
    "    Input(component_id='hour_dropdown', component_property='value')\n",
    ")\n",
    "def update_graph(monDropdown_value, hourDropdown_value) :\n",
    "    if ((monDropdown_value==None) or (hourDropdown_value==None)) :\n",
    "        return px.scatter(acc_df.sample(n=100000,axis=0,random_state=42), x='Start_Lng', y='Start_Lat', opacity=0.2,\\\n",
    "                              width=600 , height=400,\\\n",
    "                              hover_name='State_Name',\n",
    "                              color='Severity', color_continuous_scale='deep',labels={\"Start_Lng\":\"\",\"Start_Lat\":\"\"}, title=\"US car crash distributio by Severity \",\n",
    ")\n",
    "    else :\n",
    "        filtered_df = acc_df[(acc_df['month']==int(monDropdown_value)) | (acc_df['hour']==int(hourDropdown_value))]\n",
    "        return px.scatter(filtered_df, x='Start_Lng', y='Start_Lat', opacity=0.2,\\\n",
    "                              width=600 , height=400,\\\n",
    "                              hover_name='State_Name',\n",
    "                              color='Severity', color_continuous_scale='deep')\n",
    "    \n",
    "    \n",
    "@app.callback(\n",
    "    Output(component_id='Top_cities_fig', component_property='figure'),\n",
    "    Input(component_id='cities_dropdown', component_property='value')\n",
    ")   \n",
    "def change_cities(citiesDropdown_value) :\n",
    "    if citiesDropdown_value==None :\n",
    "        return Top_cities_fig\n",
    "    else :\n",
    "        return px.bar(x=Top_cities[:citiesDropdown_value].index, y=Top_cities[:citiesDropdown_value].values,\n",
    "                        labels={'x':'Top cities', 'y':'Number of accidents'},\n",
    "                        title='Top cities in accidents')"
   ]
  },
  {
   "cell_type": "code",
   "execution_count": 50,
   "metadata": {},
   "outputs": [
    {
     "name": "stdout",
     "output_type": "stream",
     "text": [
      "Dash app running on http://127.0.0.1:8050/\n"
     ]
    }
   ],
   "source": [
    "app.run_server(debug=True)"
   ]
  },
  {
   "cell_type": "code",
   "execution_count": null,
   "metadata": {},
   "outputs": [],
   "source": []
  },
  {
   "cell_type": "code",
   "execution_count": null,
   "metadata": {},
   "outputs": [],
   "source": []
  }
 ],
 "metadata": {
  "kernelspec": {
   "display_name": "Python 3",
   "language": "python",
   "name": "python3"
  },
  "language_info": {
   "codemirror_mode": {
    "name": "ipython",
    "version": 3
   },
   "file_extension": ".py",
   "mimetype": "text/x-python",
   "name": "python",
   "nbconvert_exporter": "python",
   "pygments_lexer": "ipython3",
   "version": "3.8.8"
  }
 },
 "nbformat": 4,
 "nbformat_minor": 4
}
